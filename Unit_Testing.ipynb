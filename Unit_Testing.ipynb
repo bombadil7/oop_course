{
 "cells": [
  {
   "cell_type": "markdown",
   "metadata": {},
   "source": [
    "# Doctest Basics\n",
    "\n",
    "We can include the unit test as docstrings into the function definitions:"
   ]
  },
  {
   "cell_type": "code",
   "execution_count": 1,
   "metadata": {},
   "outputs": [],
   "source": [
    "def mul(a, b):\n",
    "    \"\"\"\n",
    "    >>> mul(2, 3)\n",
    "    6\n",
    "    >>> mul('a', 2)\n",
    "    'aa'\n",
    "    \"\"\"\n",
    "    return a * b"
   ]
  },
  {
   "cell_type": "markdown",
   "metadata": {},
   "source": [
    "Run it directly from command line (-v switch for verbose):  \n",
    "`$ python -m doctest doc_ex1.py -v`"
   ]
  },
  {
   "cell_type": "markdown",
   "metadata": {},
   "source": [
    "Alternatively, add doctest directly to the file:"
   ]
  },
  {
   "cell_type": "code",
   "execution_count": 2,
   "metadata": {},
   "outputs": [],
   "source": [
    "def mul(a, b):\n",
    "    \"\"\"\n",
    "    >>> mul(2, 3)\n",
    "    6\n",
    "    >>> mul('a', 2)\n",
    "    'aa'\n",
    "    \"\"\"\n",
    "    return a * b\n",
    "\n",
    "if __name__ == \"__main__\":\n",
    "    import doctest\n",
    "    doctest.testmod()"
   ]
  },
  {
   "cell_type": "markdown",
   "metadata": {},
   "source": [
    "No output means success.  \n",
    "The unit tests can also be placed in a separate file, say tests.txt:"
   ]
  },
  {
   "cell_type": "code",
   "execution_count": 3,
   "metadata": {},
   "outputs": [
    {
     "data": {
      "text/plain": [
       "'aa'"
      ]
     },
     "execution_count": 3,
     "metadata": {},
     "output_type": "execute_result"
    }
   ],
   "source": [
    ">>> from doctest_ex1 import *\n",
    ">>> mul(2, 3)\n",
    "6\n",
    ">>> mul('a', 2)\n",
    "'aa'"
   ]
  },
  {
   "cell_type": "markdown",
   "metadata": {},
   "source": [
    "To run it do: `$ python -m doctest -v tests.txt`"
   ]
  },
  {
   "cell_type": "markdown",
   "metadata": {},
   "source": [
    "# Unittest Package\n",
    "Basic requirements:"
   ]
  },
  {
   "cell_type": "code",
   "execution_count": 4,
   "metadata": {},
   "outputs": [
    {
     "name": "stderr",
     "output_type": "stream",
     "text": [
      "E\n",
      "======================================================================\n",
      "ERROR: /run/user/1000/jupyter/kernel-cd6ae488-0cd8-463e-9ebe-5c0e1184acdc (unittest.loader._FailedTest)\n",
      "----------------------------------------------------------------------\n",
      "AttributeError: module '__main__' has no attribute '/run/user/1000/jupyter/kernel-cd6ae488-0cd8-463e-9ebe-5c0e1184acdc'\n",
      "\n",
      "----------------------------------------------------------------------\n",
      "Ran 1 test in 0.004s\n",
      "\n",
      "FAILED (errors=1)\n"
     ]
    },
    {
     "ename": "SystemExit",
     "evalue": "True",
     "output_type": "error",
     "traceback": [
      "An exception has occurred, use %tb to see the full traceback.\n",
      "\u001b[0;31mSystemExit\u001b[0m\u001b[0;31m:\u001b[0m True\n"
     ]
    },
    {
     "name": "stderr",
     "output_type": "stream",
     "text": [
      "/home/akniazev/anaconda3/lib/python3.6/site-packages/IPython/core/interactiveshell.py:2971: UserWarning: To exit: use 'exit', 'quit', or Ctrl-D.\n",
      "  warn(\"To exit: use 'exit', 'quit', or Ctrl-D.\", stacklevel=1)\n"
     ]
    }
   ],
   "source": [
    "import unittest\n",
    "#from mypackage import func\n",
    "\n",
    "def func(n):\n",
    "    return n * n\n",
    "\n",
    "\n",
    "class TestFunc(unittest.TestCase):\n",
    "    def test_simple_cases(self):\n",
    "        for c, a in (1, 1), (2, 4), (3, 9):\n",
    "            self.assertEqual(func(c), a)\n",
    "            \n",
    "if __name__ == '__main__':\n",
    "    unittest.main()"
   ]
  },
  {
   "cell_type": "markdown",
   "metadata": {},
   "source": [
    "It is important to inherit the class from unittest.TestCase, and to prefix each test case with test_  \n",
    "Some of the asserts available to us are:  \n",
    "* assertEqual\n",
    "* assertNotEqual(a, b)\n",
    "* assertTrue(x)\n",
    "* assertFalse(x)\n",
    "* assertIs(a, b)  - a is b, IsNot, IsNone, isNotNone\n",
    "* assertIn(a, b), NotIn\n",
    "assertIsInstance(a, b) NotInstance(a, b)\n",
    "\n",
    "There are also:\n",
    "* assertGreater / GreaterEqual, Less, LessEqual\n",
    "* assertRegex / NotRegex\n",
    "* assertCountEqual(a, b)\n",
    "\n",
    "### Subcases:"
   ]
  },
  {
   "cell_type": "code",
   "execution_count": 5,
   "metadata": {},
   "outputs": [],
   "source": [
    "class TestSort(unittest.TestCase):\n",
    "    def test_simple_cases(self):\n",
    "        for b in cases:\n",
    "            with self.subTest(case=b):\n",
    "                self.assertCountEqual(a, b)"
   ]
  },
  {
   "cell_type": "markdown",
   "metadata": {},
   "source": [
    "### Exceptions:\n",
    "notice that math.sqrt is not 'called', but referenced"
   ]
  },
  {
   "cell_type": "code",
   "execution_count": 6,
   "metadata": {},
   "outputs": [
    {
     "ename": "NameError",
     "evalue": "name 'self' is not defined",
     "output_type": "error",
     "traceback": [
      "\u001b[0;31m---------------------------------------------------------------------------\u001b[0m",
      "\u001b[0;31mNameError\u001b[0m                                 Traceback (most recent call last)",
      "\u001b[0;32m<ipython-input-6-aa5e2e0ccdee>\u001b[0m in \u001b[0;36m<module>\u001b[0;34m()\u001b[0m\n\u001b[0;32m----> 1\u001b[0;31m \u001b[0mself\u001b[0m\u001b[0;34m.\u001b[0m\u001b[0massertRaises\u001b[0m\u001b[0;34m(\u001b[0m\u001b[0mValueError\u001b[0m\u001b[0;34m,\u001b[0m \u001b[0mmath\u001b[0m\u001b[0;34m.\u001b[0m\u001b[0msqrt\u001b[0m\u001b[0;34m,\u001b[0m \u001b[0;34m-\u001b[0m\u001b[0;36m1\u001b[0m\u001b[0;34m)\u001b[0m\u001b[0;34m\u001b[0m\u001b[0m\n\u001b[0m",
      "\u001b[0;31mNameError\u001b[0m: name 'self' is not defined"
     ]
    }
   ],
   "source": [
    "self.assertRaises(ValueError, math.sqrt, -1)"
   ]
  },
  {
   "cell_type": "markdown",
   "metadata": {},
   "source": [
    "To ensure that test environment is independent of previous cases we use setUp and tearDown methods:"
   ]
  },
  {
   "cell_type": "code",
   "execution_count": 7,
   "metadata": {},
   "outputs": [],
   "source": [
    "class TestSort(unittest.TestCase):\n",
    "    def setUp(self):\n",
    "        self.cases = ([1], [], [1, 2], [1, 2, 3, 4, 5], \n",
    "                      [4, 2, 5, 1, 3], [5, 4, 4, 5, 5],\n",
    "                      list(range(1, 10)), list(range(9, 0, -1)))\n",
    "        \n",
    "    def test_simple_cases(self):\n",
    "        for b in self.cases:\n",
    "            with self.subTest(case=b):\n",
    "                a = list(b)\n",
    "                sort_algorithm(a)\n",
    "                self.assertCountEqual(a, b,\n",
    "                                      msg=\"Elements changed. a = \"+str(a))\n",
    "                self.assertTrue(is_not_in_descending_order(a),\n",
    "                                msg=\"List not sorted. a = \"+str(a))\n",
    "                \n",
    "    def tearDown(self):\n",
    "        self.cases = None"
   ]
  },
  {
   "cell_type": "code",
   "execution_count": null,
   "metadata": {},
   "outputs": [],
   "source": []
  }
 ],
 "metadata": {
  "kernelspec": {
   "display_name": "Python 3",
   "language": "python",
   "name": "python3"
  },
  "language_info": {
   "codemirror_mode": {
    "name": "ipython",
    "version": 3
   },
   "file_extension": ".py",
   "mimetype": "text/x-python",
   "name": "python",
   "nbconvert_exporter": "python",
   "pygments_lexer": "ipython3",
   "version": "3.6.5"
  }
 },
 "nbformat": 4,
 "nbformat_minor": 2
}
